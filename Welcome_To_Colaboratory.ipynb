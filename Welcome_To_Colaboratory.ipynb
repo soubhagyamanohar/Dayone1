{
  "cells": [
    {
      "cell_type": "markdown",
      "metadata": {
        "id": "view-in-github",
        "colab_type": "text"
      },
      "source": [
        "<a href=\"https://colab.research.google.com/github/soubhagyamanohar/Dayone1/blob/main/Welcome_To_Colaboratory.ipynb\" target=\"_parent\"><img src=\"https://colab.research.google.com/assets/colab-badge.svg\" alt=\"Open In Colab\"/></a>"
      ]
    },
    {
      "cell_type": "markdown",
      "source": [
        "## `***write a coding in python to find the factorial of a number***`"
      ],
      "metadata": {
        "id": "UtBbSvZHbRK-"
      }
    },
    {
      "cell_type": "code",
      "source": [
        "num = 6\n",
        "\n",
        "# To take input from the user\n",
        "#num = int(input(\"Enter a number: \"))\n",
        "\n",
        "factorial = 1\n",
        "\n",
        "# check if the number is negative, positive or zero\n",
        "if num < 0:\n",
        "   print(\"Sorry, factorial does not exist for negative numbers\")\n",
        "elif num == 0:\n",
        "   print(\"The factorial of 0 is 1\")\n",
        "else:\n",
        "   for i in range(1,num + 1):\n",
        "       factorial = factorial*i\n",
        "   print(\"The factorial of\",num,\"is\",factorial)"
      ],
      "metadata": {
        "colab": {
          "base_uri": "https://localhost:8080/"
        },
        "id": "UrD-IQSkbfAF",
        "outputId": "083de7f5-cbab-42e0-d3ae-10958301f00d"
      },
      "execution_count": 7,
      "outputs": [
        {
          "output_type": "stream",
          "name": "stdout",
          "text": [
            "The factorial of 6 is 720\n"
          ]
        }
      ]
    },
    {
      "cell_type": "markdown",
      "source": [
        "## ***`write a fuction in python recurrsion of names`*** "
      ],
      "metadata": {
        "id": "NbFEbgqKcq2P"
      }
    },
    {
      "cell_type": "code",
      "source": [
        "def recursive_fibonacci(n):\n",
        "  if n <= 1:\n",
        "      return n\n",
        "  else:\n",
        "      return(recursive_fibonacci(n-1) + recursive_fibonacci(n-2))\n",
        " \n",
        "n_terms = 10\n",
        " \n",
        "# check if the number of terms is valid\n",
        "if n_terms <= 0:\n",
        "  print(\"Invalid input ! Please input a positive value\")\n",
        "else:\n",
        "  print(\"Fibonacci series:\")\n",
        "for i in range(n_terms):\n",
        "    print(recursive_fibonacci(i))"
      ],
      "metadata": {
        "colab": {
          "base_uri": "https://localhost:8080/"
        },
        "id": "-rPFUBLGdBX0",
        "outputId": "265e6cb3-94ad-4158-913e-b077dc4aa1d7"
      },
      "execution_count": 8,
      "outputs": [
        {
          "output_type": "stream",
          "name": "stdout",
          "text": [
            "Fibonacci series:\n",
            "0\n",
            "1\n",
            "1\n",
            "2\n",
            "3\n",
            "5\n",
            "8\n",
            "13\n",
            "21\n",
            "34\n"
          ]
        }
      ]
    },
    {
      "cell_type": "markdown",
      "source": [
        "### write a code for               in python  \n",
        "                         *        \n",
        "                       *    *\n",
        "                     *   *    * "
      ],
      "metadata": {
        "id": "WN5ZDbMcebRz"
      }
    },
    {
      "cell_type": "code",
      "source": [
        "\n",
        "def triangle(reverse=False):\n",
        "    n=int(input('Enter the number of lines for this triangle: '))\n",
        "    if reverse\n",
        "        r = range(n,0,-1)\n",
        "    else:\n",
        "        r = range(1,n+1)\n",
        "    for i in r:\n",
        "        print ((n-i)*' '+i*'*')\n",
        "\n",
        "triangle()\n",
        "Enter the number of lines for this triangle: 5\n",
        "     * \n",
        "    * * \n",
        "   * * *\n",
        "  * * * *\n",
        " * * * * * \n",
        "triangle(reverse=True)\n",
        "Enter the number of lines for this triangle: 5\n",
        "* * * * * \n",
        " * * * * \n",
        "  * * * \n",
        "   * * \n",
        "    * "
      ],
      "metadata": {
        "colab": {
          "base_uri": "https://localhost:8080/",
          "height": 131
        },
        "id": "-zGOY60Il-YV",
        "outputId": "d339ac22-71e7-4b3b-9f9d-0afe7651f26c"
      },
      "execution_count": 77,
      "outputs": [
        {
          "output_type": "error",
          "ename": "IndentationError",
          "evalue": "ignored",
          "traceback": [
            "\u001b[0;36m  File \u001b[0;32m\"<tokenize>\"\u001b[0;36m, line \u001b[0;32m13\u001b[0m\n\u001b[0;31m    * *\u001b[0m\n\u001b[0m    ^\u001b[0m\n\u001b[0;31mIndentationError\u001b[0m\u001b[0;31m:\u001b[0m unindent does not match any outer indentation level\n"
          ]
        }
      ]
    }
  ],
  "metadata": {
    "colab": {
      "collapsed_sections": [],
      "name": "Welcome To Colaboratory",
      "toc_visible": true,
      "provenance": [],
      "include_colab_link": true
    },
    "kernelspec": {
      "display_name": "Python 3",
      "name": "python3"
    }
  },
  "nbformat": 4,
  "nbformat_minor": 0
}